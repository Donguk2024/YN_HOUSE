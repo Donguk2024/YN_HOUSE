{
 "cells": [
  {
   "cell_type": "code",
   "execution_count": null,
   "metadata": {},
   "outputs": [],
   "source": [
    "import pandas as pd\n",
    "import numpy as np\n",
    "import os\n",
    "\n",
    "df = pd.read_csv('C:/Users/Kdw/Desktop/project/yn_house/data_preprocessing_collaborate.csv', encoding='UTF-8')\n",
    "\n",
    "# pd.set_option('display.max_rows', None)\n",
    "pd.set_option('display.max_columns', None)\n",
    "# pd.reset_option('display.max_rows')\n",
    "# pd.reset_option('display.max_columns')\n",
    "\n",
    "# product_name 열 기준으로 오름차순 정렬\n",
    "df = df.sort_values(by='product_name')\n",
    "\n",
    "df.to_csv('sorted_data.csv', index=False, encoding='utf-8-sig')\n"
   ]
  },
  {
   "cell_type": "markdown",
   "metadata": {},
   "source": [
    "## 파이프"
   ]
  },
  {
   "cell_type": "code",
   "execution_count": null,
   "metadata": {},
   "outputs": [],
   "source": [
    "# 'product_name'이 '파이프'인 경우 material_usage에 '파이프'를 제외한 나머지 문자열 할당\n",
    "pipe_df = df.copy()\n",
    "\n",
    "# 무시해야 할 패턴 리스트\n",
    "ignore_patterns = ['각관', '씨형강', '캡', '고정대']\n",
    "\n",
    "pipe_df['material_usage'] = pipe_df['product_name'].apply(\n",
    "    lambda x: x.replace('파이프', '').strip() if isinstance(x, str) and '파이프' in x and all(pattern not in x for pattern in ignore_patterns) else np.nan\n",
    ")\n",
    "\n",
    "# 'product_name'이 '파이프'인 경우 '파이프'로 대체\n",
    "pipe_df['product_name'] = pipe_df['product_name'].apply(\n",
    "    lambda x: '파이프' if isinstance(x, str) and '파이프' in x and all(pattern not in x for pattern in ignore_patterns) else x\n",
    ")\n",
    "\n",
    "pipe_df"
   ]
  },
  {
   "cell_type": "markdown",
   "metadata": {},
   "source": [
    "### 파이프(활대 처리)"
   ]
  },
  {
   "cell_type": "code",
   "execution_count": null,
   "metadata": {},
   "outputs": [],
   "source": [
    "pipe_df = pipe_df.copy()\n",
    "# 무시해야 할 패턴 리스트\n",
    "ignore_patterns = ['꽂이']\n",
    "\n",
    "# '활대' 문자열이 포함된 경우 material_usage에 '활대'를 제외한 나머지 문자열 할당\n",
    "pipe_df['material_usage'] = pipe_df['product_name'].apply(\n",
    "    lambda x: x.replace('활대', '').strip() if isinstance(x, str) and '활대' in x and all(pattern not in x for pattern in ignore_patterns) else np.nan\n",
    ")\n",
    "\n",
    "# 'product_name'이 '활대'인 경우 '파이프'로 대체\n",
    "pipe_df['product_name'] = pipe_df['product_name'].apply(\n",
    "    lambda x: '파이프' if isinstance(x, str) and '활대' in x and all(pattern not in x for pattern in ignore_patterns) else x\n",
    ")"
   ]
  },
  {
   "cell_type": "code",
   "execution_count": null,
   "metadata": {},
   "outputs": [],
   "source": [
    "list(pipe_df[pipe_df['product_name'].str.contains('파이프',na=False)]['product_name'].unique())\n"
   ]
  },
  {
   "cell_type": "markdown",
   "metadata": {},
   "source": [
    "## 각관파이프"
   ]
  },
  {
   "cell_type": "code",
   "execution_count": null,
   "metadata": {},
   "outputs": [],
   "source": [
    "square_pipe_df = pipe_df.copy()\n",
    "# 무시해야 할 패턴 리스트\n",
    "ignore_patterns = ['출입문']\n",
    "\n",
    "square_pipe_df['material_usage'] = square_pipe_df['product_name'].apply(\n",
    "    lambda x: x.replace('각관', '').strip() if isinstance(x, str) and '각관' in x and all(pattern not in x for pattern in ignore_patterns) else np.nan\n",
    ")\n",
    "\n",
    "# 'product_name'이 '파이프'인 경우 '파이프'로 대체\n",
    "square_pipe_df['product_name'] = square_pipe_df['product_name'].apply(\n",
    "    lambda x: '각관' if isinstance(x, str) and '각관' in x and all(pattern not in x for pattern in ignore_patterns) else x\n",
    ")"
   ]
  },
  {
   "cell_type": "markdown",
   "metadata": {},
   "source": [
    "## 비닐"
   ]
  },
  {
   "cell_type": "code",
   "execution_count": null,
   "metadata": {},
   "outputs": [],
   "source": [
    "film_df = square_pipe_df.copy()\n",
    "ignore_patterns = ['클립', '크립']\n",
    "\n",
    "film_df['material_usage'] = film_df['product_name'].apply(\n",
    "    lambda x: x.replace('비닐', '').strip() if isinstance(x, str) and '비닐' in x and all(pattern not in x for pattern in ignore_patterns) else np.nan\n",
    ")\n",
    "\n",
    "# 'product_name'이 '비닐'인 경우 '파이프'로 대체\n",
    "film_df['product_name'] = film_df['product_name'].apply(\n",
    "    lambda x: '비닐' if isinstance(x, str) and '비닐' in x and all(pattern not in x for pattern in ignore_patterns) else x\n",
    ")\n",
    "film_df[(film_df['material_usage'].notnull()) & (film_df['product_name'] == '비닐')]"
   ]
  },
  {
   "cell_type": "markdown",
   "metadata": {},
   "source": [
    "## 부직포"
   ]
  },
  {
   "cell_type": "code",
   "execution_count": null,
   "metadata": {},
   "outputs": [],
   "source": [
    "nonwoven_fabric_df = film_df.copy()\n",
    "ignore_patterns = []\n",
    "\n",
    "nonwoven_fabric_df['material_usage'] = nonwoven_fabric_df['product_name'].apply(\n",
    "    lambda x: x.replace('부직포', '').strip() if isinstance(x, str) and '부직포' in x and all(pattern not in x for pattern in ignore_patterns) else np.nan\n",
    ")\n",
    "\n",
    "# 'product_name'이 '파이프'인 경우 '파이프'로 대체\n",
    "nonwoven_fabric_df['product_name'] = nonwoven_fabric_df['product_name'].apply(\n",
    "    lambda x: '부직포' if isinstance(x, str) and '부직포' in x and all(pattern not in x for pattern in ignore_patterns) else x\n",
    ")\n",
    "nonwoven_fabric_df[(nonwoven_fabric_df['material_usage'].notnull()) & (nonwoven_fabric_df['product_name'] == '부직포')]"
   ]
  },
  {
   "cell_type": "markdown",
   "metadata": {},
   "source": [
    "## 차광망"
   ]
  },
  {
   "cell_type": "code",
   "execution_count": null,
   "metadata": {},
   "outputs": [],
   "source": [
    "shade_net = nonwoven_fabric_df.copy()\n",
    "shade_net['material_usage'] = shade_net['product_name'].apply(\n",
    "    lambda x: x.replace('차광망', '').strip() if isinstance(x, str) and '차광망' in x and '각관' not in x else np.nan\n",
    ")\n",
    "\n",
    "# 'product_name'이 '차광망'인 경우 '차광망'로 대체\n",
    "shade_net['product_name'] = shade_net['product_name'].apply(\n",
    "    lambda x: '차광망' if isinstance(x, str) and '차광망' in x and '각관' not in x else x\n",
    ")\n",
    "shade_net[(shade_net['material_usage'].notnull()) & (shade_net['product_name'] == '차광망')]"
   ]
  },
  {
   "cell_type": "markdown",
   "metadata": {},
   "source": [
    "## 환풍기"
   ]
  },
  {
   "cell_type": "code",
   "execution_count": null,
   "metadata": {},
   "outputs": [],
   "source": [
    "ventilator = shade_net.copy()\n",
    "ignore_patterns = ['개폐기']\n",
    "\n",
    "ventilator['material_usage'] = ventilator['product_name'].apply(\n",
    "    lambda x: x.replace('환풍기', '').strip() if isinstance(x, str) and '환풍기' in x and all(pattern not in x for pattern in ignore_patterns) else np.nan\n",
    ")\n",
    "\n",
    "# 'product_name'이 '파이프'인 경우 '파이프'로 대체\n",
    "ventilator['product_name'] = ventilator['product_name'].apply(\n",
    "    lambda x: '환풍기' if isinstance(x, str) and '환풍기' in x and all(pattern not in x for pattern in ignore_patterns) else x\n",
    ")\n",
    "ventilator[(ventilator['material_usage'].notnull()) & (ventilator['product_name'] == '환풍기')]"
   ]
  },
  {
   "cell_type": "code",
   "execution_count": null,
   "metadata": {},
   "outputs": [],
   "source": [
    "list(ventilator[ventilator['product_name'].str.contains('환풍기',na=False)]['product_name'].unique())"
   ]
  },
  {
   "cell_type": "markdown",
   "metadata": {},
   "source": [
    "## 씨형강"
   ]
  },
  {
   "cell_type": "code",
   "execution_count": null,
   "metadata": {},
   "outputs": [],
   "source": [
    "c_formed_pipe = ventilator.copy()\n",
    "\n",
    "c_formed_pipe['product_name'] = c_formed_pipe['product_name'].apply(\n",
    "    lambda x: x.replace('씨형관', '씨형강') if isinstance(x, str) else x\n",
    ")\n",
    "\n",
    "c_formed_pipe['product_name'] = c_formed_pipe['product_name'].apply(\n",
    "    lambda x: x.replace('시형강', '씨형강') if isinstance(x, str) else x\n",
    ")\n",
    "\n",
    "c_formed_pipe['material_usage'] = c_formed_pipe['product_name'].apply(\n",
    "    lambda x: x.replace('씨형강', '').strip() if isinstance(x, str) and '씨형강' in x and all(pattern not in x for pattern in ignore_patterns) else np.nan\n",
    ")\n",
    "\n",
    "c_formed_pipe['product_name'] = c_formed_pipe['product_name'].apply(\n",
    "    lambda x: '씨형강' if isinstance(x, str) and '씨형강' in x and all(pattern not in x for pattern in ignore_patterns) else x\n",
    ")\n",
    "c_formed_pipe[(c_formed_pipe['material_usage'].notnull()) & (c_formed_pipe['product_name'] == '씨형강')]"
   ]
  },
  {
   "cell_type": "code",
   "execution_count": null,
   "metadata": {},
   "outputs": [],
   "source": [
    "list(c_formed_pipe[c_formed_pipe['product_name'].str.contains('씨형강',na=False)]['product_name'].unique())"
   ]
  },
  {
   "cell_type": "markdown",
   "metadata": {},
   "source": [
    "## 출입문(각관형)"
   ]
  },
  {
   "cell_type": "code",
   "execution_count": null,
   "metadata": {},
   "outputs": [],
   "source": [
    "gateway = c_formed_pipe.copy()\n",
    "ignore_patterns = ['샷시','샤시']\n",
    "\n",
    "gateway['material_usage'] = gateway['product_name'].apply(\n",
    "    lambda x: x.replace('출입문', '').strip() if isinstance(x, str) and '출입문' in x and all(pattern not in x for pattern in ignore_patterns) else np.nan\n",
    ")\n",
    "\n",
    "gateway['product_name'] = gateway['product_name'].apply(\n",
    "    lambda x: '출입문' if isinstance(x, str) and '출입문' in x and all(pattern not in x for pattern in ignore_patterns) else x\n",
    ")\n",
    "gateway[(gateway['material_usage'].notnull()) & (gateway['product_name'] == '출입문')]"
   ]
  },
  {
   "cell_type": "markdown",
   "metadata": {},
   "source": [
    "## 샤시"
   ]
  },
  {
   "cell_type": "code",
   "execution_count": null,
   "metadata": {},
   "outputs": [],
   "source": [
    "sash_df = gateway.copy()\n",
    "# '샤시' 문자열을 '샷시'로 변경\n",
    "sash_df['product_name'] = sash_df['product_name'].apply(\n",
    "    lambda x: x.replace('샷시', '샤시') if isinstance(x, str) else x\n",
    ")\n",
    "\n",
    "# 무시해야 할 패턴 리스트\n",
    "ignore_patterns = ['자물쇠']\n",
    "\n",
    "# '샤시' 문자열이 포함된 경우 '샤시'를 제외한 나머지 문자열을 material_usage에 할당\n",
    "sash_df['material_usage'] = sash_df['product_name'].apply(\n",
    "    lambda x: x.replace('샤시', '').strip() if isinstance(x, str) and '샤시' in x and all(pattern not in x for pattern in ignore_patterns) else np.nan\n",
    ")\n",
    "\n",
    "# '샤시' 문자열이 포함된 경우 '샤시'로 대체\n",
    "sash_df['product_name'] = sash_df['product_name'].apply(\n",
    "    lambda x: '샤시' if isinstance(x, str) and '샤시' in x and all(pattern not in x for pattern in ignore_patterns) else x\n",
    ")\n",
    "sash_df[(sash_df['material_usage'].notnull()) & (sash_df['product_name'] == '샤시')]"
   ]
  },
  {
   "cell_type": "code",
   "execution_count": null,
   "metadata": {},
   "outputs": [],
   "source": [
    "list(sash_df[sash_df['product_name'].str.contains('샤시',na=False)]['product_name'].unique())"
   ]
  },
  {
   "cell_type": "markdown",
   "metadata": {},
   "source": [
    "## 조리개"
   ]
  },
  {
   "cell_type": "code",
   "execution_count": null,
   "metadata": {},
   "outputs": [],
   "source": [
    "aperture_df = sash_df.copy()\n",
    "ignore_patterns = []\n",
    "\n",
    "aperture_df['product_name'] = aperture_df['product_name'].apply(\n",
    "    lambda x: x.replace('조래개', '조리개') if isinstance(x, str) else x\n",
    ")\n",
    "\n",
    "aperture_df['material_usage'] = aperture_df['product_name'].apply(\n",
    "    lambda x: x.replace('조리개', '').strip() if isinstance(x, str) and '조리개' in x and all(pattern not in x for pattern in ignore_patterns) else np.nan\n",
    ")\n",
    "\n",
    "aperture_df['product_name'] = aperture_df['product_name'].apply(\n",
    "    lambda x: '조리개' if isinstance(x, str) and '조리개' in x and all(pattern not in x for pattern in ignore_patterns) else x\n",
    ")\n",
    "aperture_df[(aperture_df['material_usage'].notnull()) & (aperture_df['product_name'] == '조리개')]"
   ]
  },
  {
   "cell_type": "code",
   "execution_count": null,
   "metadata": {},
   "outputs": [],
   "source": [
    "plastic_clip_df = aperture_df.copy()\n",
    "# '비닐클립' 문자열을 '샷시'로 변경\n",
    "plastic_clip_df['product_name'] = plastic_clip_df['product_name'].apply(\n",
    "    lambda x: x.replace('비닐크립', '비닐클립') if isinstance(x, str) else x\n",
    ")\n",
    "\n",
    "# 무시해야 할 패턴 리스트\n",
    "ignore_patterns = []\n",
    "\n",
    "# '비닐클립' 문자열이 포함된 경우 '비닐클립'를 제외한 나머지 문자열을 material_usage에 할당\n",
    "plastic_clip_df['material_usage'] = plastic_clip_df['product_name'].apply(\n",
    "    lambda x: x.replace('비닐클립', '').strip() if isinstance(x, str) and '비닐클립' in x and all(pattern not in x for pattern in ignore_patterns) else np.nan\n",
    ")\n",
    "\n",
    "# '비닐클립' 문자열이 포함된 경우 '비닐클립'로 대체\n",
    "plastic_clip_df['product_name'] = plastic_clip_df['product_name'].apply(\n",
    "    lambda x: '비닐클립' if isinstance(x, str) and '비닐클립' in x and all(pattern not in x for pattern in ignore_patterns) else x\n",
    ")\n",
    "plastic_clip_df[(plastic_clip_df['material_usage'].notnull()) & (plastic_clip_df['product_name'] == '비닐클립')]"
   ]
  },
  {
   "cell_type": "markdown",
   "metadata": {},
   "source": [
    "## 차광필름"
   ]
  },
  {
   "cell_type": "code",
   "execution_count": null,
   "metadata": {},
   "outputs": [],
   "source": [
    "shade_film_df = plastic_clip_df.copy()\n",
    "ignore_patterns = ['패드','개폐']\n",
    "\n",
    "shade_film_df['material_usage'] = shade_film_df['product_name'].apply(\n",
    "    lambda x: x.replace('필름', '').strip() if isinstance(x, str) and '필름' in x and all(pattern not in x for pattern in ignore_patterns) else np.nan\n",
    ")\n",
    "\n",
    "shade_film_df['product_name'] = shade_film_df['product_name'].apply(\n",
    "    lambda x: '필름' if isinstance(x, str) and '필름' in x and all(pattern not in x for pattern in ignore_patterns) else x\n",
    ")\n",
    "shade_film_df[(shade_film_df['material_usage'].notnull()) & (shade_film_df['product_name'] == '필름')]"
   ]
  },
  {
   "cell_type": "markdown",
   "metadata": {},
   "source": [
    "## 패드"
   ]
  },
  {
   "cell_type": "code",
   "execution_count": null,
   "metadata": {},
   "outputs": [],
   "source": [
    "pad_df = shade_film_df.copy()\n",
    "ignore_patterns = []\n",
    "\n",
    "pad_df['material_usage'] = pad_df['product_name'].apply(\n",
    "    lambda x: x.replace('패드', '').strip() if isinstance(x, str) and '패드' in x and all(pattern not in x for pattern in ignore_patterns) else np.nan\n",
    ")\n",
    "\n",
    "pad_df['product_name'] = pad_df['product_name'].apply(\n",
    "    lambda x: '패드' if isinstance(x, str) and '패드' in x and all(pattern not in x for pattern in ignore_patterns) else x\n",
    ")\n",
    "pad_df[(pad_df['material_usage'].notnull()) & (pad_df['product_name'] == '패드')]"
   ]
  },
  {
   "cell_type": "markdown",
   "metadata": {},
   "source": [
    "## 스트랑"
   ]
  },
  {
   "cell_type": "code",
   "execution_count": null,
   "metadata": {},
   "outputs": [],
   "source": [
    "string_df = pad_df.copy()\n",
    "ignore_patterns = []\n",
    "\n",
    "string_df['material_usage'] = string_df['product_name'].apply(\n",
    "    lambda x: x.replace('스트랑', '').strip() if isinstance(x, str) and '스트랑' in x and all(pattern not in x for pattern in ignore_patterns) else np.nan\n",
    ")\n",
    "\n",
    "string_df['product_name'] = string_df['product_name'].apply(\n",
    "    lambda x: '스트랑' if isinstance(x, str) and '스트랑' in x and all(pattern not in x for pattern in ignore_patterns) else x\n",
    ")\n",
    "string_df[(string_df['material_usage'].notnull()) & (string_df['product_name'] == '스트랑')]"
   ]
  },
  {
   "cell_type": "markdown",
   "metadata": {},
   "source": [
    "## 꿩망"
   ]
  },
  {
   "cell_type": "code",
   "execution_count": null,
   "metadata": {},
   "outputs": [],
   "source": [
    "pheasant_net = string_df.copy()\n",
    "ignore_patterns = []\n",
    "\n",
    "pheasant_net['material_usage'] = pheasant_net['product_name'].apply(\n",
    "    lambda x: x.replace('꿩망', '').strip() if isinstance(x, str) and '꿩망' in x and all(pattern not in x for pattern in ignore_patterns) else np.nan\n",
    ")\n",
    "\n",
    "pheasant_net['product_name'] = pheasant_net['product_name'].apply(\n",
    "    lambda x: '꿩망' if isinstance(x, str) and '꿩망' in x and all(pattern not in x for pattern in ignore_patterns) else x\n",
    ")\n",
    "pheasant_net[(pheasant_net['material_usage'].notnull()) & (pheasant_net['product_name'] == '꿩망')]"
   ]
  },
  {
   "cell_type": "markdown",
   "metadata": {},
   "source": [
    "## 닭망"
   ]
  },
  {
   "cell_type": "code",
   "execution_count": null,
   "metadata": {},
   "outputs": [],
   "source": [
    "chicken_net = pheasant_net.copy()\n",
    "ignore_patterns = []\n",
    "\n",
    "chicken_net['material_usage'] = chicken_net['product_name'].apply(\n",
    "    lambda x: x.replace('닭망', '').strip() if isinstance(x, str) and '닭망' in x and all(pattern not in x for pattern in ignore_patterns) else np.nan\n",
    ")\n",
    "\n",
    "chicken_net['product_name'] = chicken_net['product_name'].apply(\n",
    "    lambda x: '닭망' if isinstance(x, str) and '닭망' in x and all(pattern not in x for pattern in ignore_patterns) else x\n",
    ")\n",
    "chicken_net[(chicken_net['material_usage'].notnull()) & (chicken_net['product_name'] == '닭망')]"
   ]
  },
  {
   "cell_type": "markdown",
   "metadata": {},
   "source": [
    "## 새들"
   ]
  },
  {
   "cell_type": "code",
   "execution_count": null,
   "metadata": {},
   "outputs": [],
   "source": [
    "saddle_df = chicken_net.copy()\n",
    "ignore_patterns = []\n",
    "\n",
    "saddle_df['material_usage'] = saddle_df['product_name'].apply(\n",
    "    lambda x: x.replace('새들', '').strip() if isinstance(x, str) and '새들' in x and all(pattern not in x for pattern in ignore_patterns) else np.nan\n",
    ")\n",
    "\n",
    "saddle_df['product_name'] = saddle_df['product_name'].apply(\n",
    "    lambda x: '새들' if isinstance(x, str) and '새들' in x and all(pattern not in x for pattern in ignore_patterns) else x\n",
    ")\n",
    "saddle_df[(saddle_df['material_usage'].notnull()) & (saddle_df['product_name'] == '새들')]"
   ]
  },
  {
   "cell_type": "markdown",
   "metadata": {},
   "source": [
    "## 시공비"
   ]
  },
  {
   "cell_type": "code",
   "execution_count": null,
   "metadata": {},
   "outputs": [],
   "source": [
    "construction_df = saddle_df.copy()\n",
    "ignore_patterns = []\n",
    "\n",
    "construction_df['material_usage'] = construction_df['product_name'].apply(\n",
    "    lambda x: x.replace('시공비', '').strip() if isinstance(x, str) and '시공비' in x and all(pattern not in x for pattern in ignore_patterns) else np.nan\n",
    ")\n",
    "\n",
    "construction_df['product_name'] = construction_df['product_name'].apply(\n",
    "    lambda x: '시공비' if isinstance(x, str) and '시공비' in x and all(pattern not in x for pattern in ignore_patterns) else x\n",
    ")\n",
    "construction_df[(construction_df['material_usage'].notnull()) & (construction_df['product_name'] == '시공비')]"
   ]
  },
  {
   "cell_type": "markdown",
   "metadata": {},
   "source": [
    "## 소계"
   ]
  },
  {
   "cell_type": "code",
   "execution_count": null,
   "metadata": {},
   "outputs": [],
   "source": [
    "pre_sum_df = construction_df.copy()\n",
    "ignore_patterns = []\n",
    "\n",
    "pre_sum_df['product_name'] = pre_sum_df['product_name'].apply(\n",
    "    lambda x: x.replace('계', '소계') if isinstance(x, str) else x\n",
    ")\n",
    "\n",
    "pre_sum_df['material_usage'] = pre_sum_df['product_name'].apply(\n",
    "    lambda x: x.replace('소계', '').strip() if isinstance(x, str) and '소계' in x and all(pattern not in x for pattern in ignore_patterns) else np.nan\n",
    ")\n",
    "\n",
    "pre_sum_df['product_name'] = pre_sum_df['product_name'].apply(\n",
    "    lambda x: '소계' if isinstance(x, str) and '소계' in x and all(pattern not in x for pattern in ignore_patterns) else x\n",
    ")\n",
    "pre_sum_df[(pre_sum_df['material_usage'].notnull()) & (pre_sum_df['product_name'] == '소계')]"
   ]
  },
  {
   "cell_type": "markdown",
   "metadata": {},
   "source": [
    "## 하우스용 밴드"
   ]
  },
  {
   "cell_type": "code",
   "execution_count": null,
   "metadata": {},
   "outputs": [],
   "source": [
    "house_band_df = pre_sum_df.copy()\n",
    "ignore_patterns = []\n",
    "\n",
    "house_band_df['material_usage'] = house_band_df['product_name'].apply(\n",
    "    lambda x: x.replace('밴드', '').strip() if isinstance(x, str) and '밴드' in x and all(pattern not in x for pattern in ignore_patterns) else np.nan\n",
    ")\n",
    "\n",
    "house_band_df['product_name'] = house_band_df['product_name'].apply(\n",
    "    lambda x: '밴드' if isinstance(x, str) and '밴드' in x and all(pattern not in x for pattern in ignore_patterns) else x\n",
    ")\n",
    "house_band_df[(house_band_df['material_usage'].notnull()) & (house_band_df['product_name'] == '밴드')]"
   ]
  },
  {
   "cell_type": "markdown",
   "metadata": {},
   "source": [
    "## 천막지"
   ]
  },
  {
   "cell_type": "code",
   "execution_count": null,
   "metadata": {},
   "outputs": [],
   "source": [
    "tarpaulin_df = house_band_df.copy()\n",
    "ignore_patterns = []\n",
    "\n",
    "tarpaulin_df['material_usage'] = tarpaulin_df['product_name'].apply(\n",
    "    lambda x: x.replace('천막지', '').strip() if isinstance(x, str) and '천막지' in x and all(pattern not in x for pattern in ignore_patterns) else np.nan\n",
    ")\n",
    "\n",
    "tarpaulin_df['product_name'] = tarpaulin_df['product_name'].apply(\n",
    "    lambda x: '천막지' if isinstance(x, str) and '천막지' in x and all(pattern not in x for pattern in ignore_patterns) else x\n",
    ")\n",
    "tarpaulin_df[(tarpaulin_df['material_usage'].notnull()) & (tarpaulin_df['product_name'] == '천막지')]"
   ]
  },
  {
   "cell_type": "markdown",
   "metadata": {},
   "source": [
    "## 쫄탑"
   ]
  },
  {
   "cell_type": "code",
   "execution_count": null,
   "metadata": {},
   "outputs": [],
   "source": [
    "tarpaulin_df = house_band_df.copy()\n",
    "ignore_patterns = []\n",
    "\n",
    "tarpaulin_df['material_usage'] = tarpaulin_df['product_name'].apply(\n",
    "    lambda x: x.replace('쫄탑', '').strip() if isinstance(x, str) and '쫄탑' in x and all(pattern not in x for pattern in ignore_patterns) else np.nan\n",
    ")\n",
    "\n",
    "tarpaulin_df['product_name'] = tarpaulin_df['product_name'].apply(\n",
    "    lambda x: '쫄탑' if isinstance(x, str) and '쫄탑' in x and all(pattern not in x for pattern in ignore_patterns) else x\n",
    ")\n",
    "tarpaulin_df[(tarpaulin_df['material_usage'].notnull()) & (tarpaulin_df['product_name'] == '쫄탑')]"
   ]
  },
  {
   "cell_type": "markdown",
   "metadata": {},
   "source": [
    "## 담요"
   ]
  },
  {
   "cell_type": "code",
   "execution_count": null,
   "metadata": {},
   "outputs": [],
   "source": [
    "blanket_df = tarpaulin_df.copy()\n",
    "ignore_patterns = []\n",
    "\n",
    "blanket_df['material_usage'] = blanket_df['product_name'].apply(\n",
    "    lambda x: x.replace('담요', '').strip() if isinstance(x, str) and '담요' in x and all(pattern not in x for pattern in ignore_patterns) else np.nan\n",
    ")\n",
    "\n",
    "blanket_df['product_name'] = blanket_df['product_name'].apply(\n",
    "    lambda x: '담요' if isinstance(x, str) and '담요' in x and all(pattern not in x for pattern in ignore_patterns) else x\n",
    ")\n",
    "blanket_df[(blanket_df['material_usage'].notnull()) & (blanket_df['product_name'] == '담요')]"
   ]
  },
  {
   "cell_type": "markdown",
   "metadata": {},
   "source": [
    "## 중방대"
   ]
  },
  {
   "cell_type": "code",
   "execution_count": null,
   "metadata": {},
   "outputs": [],
   "source": [
    "middle_column_df = blanket_df.copy()\n",
    "ignore_patterns = ['각']\n",
    "\n",
    "middle_column_df['material_usage'] = middle_column_df['product_name'].apply(\n",
    "    lambda x: x.replace('중방대', '').strip() if isinstance(x, str) and '중방대' in x and all(pattern not in x for pattern in ignore_patterns) else np.nan\n",
    ")\n",
    "\n",
    "middle_column_df['product_name'] = middle_column_df['product_name'].apply(\n",
    "    lambda x: '중방대' if isinstance(x, str) and '중방대' in x and all(pattern not in x for pattern in ignore_patterns) else x\n",
    ")\n",
    "middle_column_df[(middle_column_df['material_usage'].notnull()) & (middle_column_df['product_name'] == '중방대')]"
   ]
  },
  {
   "cell_type": "markdown",
   "metadata": {},
   "source": [
    "## 유클립"
   ]
  },
  {
   "cell_type": "code",
   "execution_count": null,
   "metadata": {},
   "outputs": [],
   "source": [
    "U_clip_df = middle_column_df.copy()\n",
    "ignore_patterns = ['각']\n",
    "\n",
    "U_clip_df['product_name'] = U_clip_df['product_name'].apply(\n",
    "    lambda x: x.replace('유클램프', '유클립') if isinstance(x, str) else x\n",
    ")\n",
    "\n",
    "U_clip_df['product_name'] = U_clip_df['product_name'].apply(\n",
    "    lambda x: x.replace('유크립', '유클립') if isinstance(x, str) else x\n",
    ")\n",
    "\n",
    "U_clip_df['material_usage'] = U_clip_df['product_name'].apply(\n",
    "    lambda x: x.replace('유클립', '').strip() if isinstance(x, str) and '유클립' in x and all(pattern not in x for pattern in ignore_patterns) else np.nan\n",
    ")\n",
    "\n",
    "U_clip_df['product_name'] = U_clip_df['product_name'].apply(\n",
    "    lambda x: '유클립' if isinstance(x, str) and '유클립' in x and all(pattern not in x for pattern in ignore_patterns) else x\n",
    ")\n",
    "U_clip_df[(U_clip_df['material_usage'].notnull()) & (U_clip_df['product_name'] == '유클립')]"
   ]
  },
  {
   "cell_type": "markdown",
   "metadata": {},
   "source": [
    "## 티클립"
   ]
  },
  {
   "cell_type": "markdown",
   "metadata": {},
   "source": [
    "### 대각티, 사다리"
   ]
  },
  {
   "cell_type": "code",
   "execution_count": null,
   "metadata": {},
   "outputs": [],
   "source": [
    "t_shaped_clip_df = U_clip_df.copy()\n",
    "ignore_patterns = ['각']\n",
    "\n",
    "t_shaped_clip_df['product_name'] = t_shaped_clip_df['product_name'].apply(\n",
    "    lambda x: x.replace('대각티고정구', '대각티클립') if isinstance(x, str) else x\n",
    ")\n",
    "\n",
    "t_shaped_clip_df['product_name'] = t_shaped_clip_df['product_name'].apply(\n",
    "    lambda x: x.replace('추가 사다리', '사다리') if isinstance(x, str) else x\n",
    ")\n",
    "t_shaped_clip_df['product_name'] = t_shaped_clip_df['product_name'].apply(\n",
    "    lambda x: x.replace('마무리티', '티클립') if isinstance(x, str) else x\n",
    ")\n",
    "\n",
    "t_shaped_clip_df['material_usage'] = t_shaped_clip_df['product_name'].apply(\n",
    "    lambda x: x.replace('티클립', '').strip() if isinstance(x, str) and '티클립' in x and all(pattern not in x for pattern in ignore_patterns) else np.nan\n",
    ")\n",
    "\n",
    "t_shaped_clip_df['product_name'] = t_shaped_clip_df['product_name'].apply(\n",
    "    lambda x: '티클립' if isinstance(x, str) and '티클립' in x and all(pattern not in x for pattern in ignore_patterns) else x\n",
    ")\n",
    "t_shaped_clip_df[(t_shaped_clip_df['material_usage'].notnull()) & (t_shaped_clip_df['product_name'] == '티클립')]"
   ]
  },
  {
   "cell_type": "markdown",
   "metadata": {},
   "source": [
    "## 철거비"
   ]
  },
  {
   "cell_type": "code",
   "execution_count": null,
   "metadata": {},
   "outputs": [],
   "source": [
    "demolition = t_shaped_clip_df.copy()\n",
    "ignore_patterns = []\n",
    "\n",
    "demolition['material_usage'] = demolition['product_name'].apply(\n",
    "    lambda x: x.replace('철거비', '').strip() if isinstance(x, str) and '철거비' in x and all(pattern not in x for pattern in ignore_patterns) else np.nan\n",
    ")\n",
    "\n",
    "demolition['product_name'] = demolition['product_name'].apply(\n",
    "    lambda x: '철거비' if isinstance(x, str) and '철거비' in x and all(pattern not in x for pattern in ignore_patterns) else x\n",
    ")\n",
    "demolition[(demolition['material_usage'].notnull()) & (demolition['product_name'] == '철거비')]"
   ]
  },
  {
   "cell_type": "markdown",
   "metadata": {},
   "source": [
    "## 방충망"
   ]
  },
  {
   "cell_type": "code",
   "execution_count": null,
   "metadata": {},
   "outputs": [],
   "source": [
    "insect_screen = demolition.copy()\n",
    "ignore_patterns = []\n",
    "\n",
    "insect_screen['material_usage'] = insect_screen['product_name'].apply(\n",
    "    lambda x: x.replace('방충망', '').strip() if isinstance(x, str) and '방충망' in x and all(pattern not in x for pattern in ignore_patterns) else np.nan\n",
    ")\n",
    "\n",
    "insect_screen['product_name'] = insect_screen['product_name'].apply(\n",
    "    lambda x: '방충망' if isinstance(x, str) and '방충망' in x and all(pattern not in x for pattern in ignore_patterns) else x\n",
    ")\n",
    "insect_screen[(insect_screen['material_usage'].notnull()) & (insect_screen['product_name'] == '방충망')]"
   ]
  },
  {
   "cell_type": "markdown",
   "metadata": {},
   "source": [
    "## 카시미롱"
   ]
  },
  {
   "cell_type": "code",
   "execution_count": null,
   "metadata": {},
   "outputs": [],
   "source": [
    "cashmere = insect_screen.copy()\n",
    "ignore_patterns = []\n",
    "\n",
    "cashmere['material_usage'] = cashmere['product_name'].apply(\n",
    "    lambda x: x.replace('카시미롱', '').strip() if isinstance(x, str) and '카시미롱' in x and all(pattern not in x for pattern in ignore_patterns) else np.nan\n",
    ")\n",
    "\n",
    "cashmere['product_name'] = cashmere['product_name'].apply(\n",
    "    lambda x: '카시미롱' if isinstance(x, str) and '카시미롱' in x and all(pattern not in x for pattern in ignore_patterns) else x\n",
    ")\n",
    "cashmere[(cashmere['material_usage'].notnull()) & (cashmere['product_name'] == '카시미롱')]"
   ]
  },
  {
   "cell_type": "markdown",
   "metadata": {},
   "source": [
    "## 연결봉"
   ]
  },
  {
   "cell_type": "code",
   "execution_count": null,
   "metadata": {},
   "outputs": [],
   "source": [
    "coupling_df = cashmere.copy()\n",
    "ignore_patterns = ['각']\n",
    "\n",
    "coupling_df['product_name'] = coupling_df['product_name'].apply(\n",
    "    lambda x: x.replace('대각티고정구', '대각티클립') if isinstance(x, str) else x\n",
    ")\n",
    "\n",
    "coupling_df['material_usage'] = coupling_df['product_name'].apply(\n",
    "    lambda x: x.replace('연결봉', '').strip() if isinstance(x, str) and '연결봉' in x and all(pattern not in x for pattern in ignore_patterns) else np.nan\n",
    ")\n",
    "\n",
    "coupling_df['product_name'] = coupling_df['product_name'].apply(\n",
    "    lambda x: '연결봉' if isinstance(x, str) and '연결봉' in x and all(pattern not in x for pattern in ignore_patterns) else x\n",
    ")\n",
    "coupling_df[(coupling_df['material_usage'].notnull()) & (coupling_df['product_name'] == '연결봉')]"
   ]
  },
  {
   "cell_type": "markdown",
   "metadata": {},
   "source": [
    "## 베어링"
   ]
  },
  {
   "cell_type": "code",
   "execution_count": null,
   "metadata": {},
   "outputs": [],
   "source": [
    "bareling_df = coupling_df.copy()\n",
    "ignore_patterns = ['각']\n",
    "\n",
    "\n",
    "bareling_df['material_usage'] = bareling_df['product_name'].apply(\n",
    "    lambda x: x.replace('베어링', '').strip() if isinstance(x, str) and '베어링' in x and all(pattern not in x for pattern in ignore_patterns) else np.nan\n",
    ")\n",
    "\n",
    "bareling_df['product_name'] = bareling_df['product_name'].apply(\n",
    "    lambda x: '베어링' if isinstance(x, str) and '베어링' in x and all(pattern not in x for pattern in ignore_patterns) else x\n",
    ")\n",
    "bareling_df[(bareling_df['material_usage'].notnull()) & (bareling_df['product_name'] == '베어링')]"
   ]
  },
  {
   "cell_type": "markdown",
   "metadata": {},
   "source": [
    "## 소켓"
   ]
  },
  {
   "cell_type": "code",
   "execution_count": null,
   "metadata": {},
   "outputs": [],
   "source": [
    "socket_df = bareling_df.copy()\n",
    "ignore_patterns = ['발브', '이경', '일자']\n",
    "\n",
    "socket_df['material_usage'] = socket_df['product_name'].apply(\n",
    "   lambda x: x.replace('소켓', '').strip() if isinstance(x, str) and '소켓' in x and all(pattern not in x for pattern in ignore_patterns) else np.nan\n",
    ")\n",
    "\n",
    "socket_df['product_name'] = socket_df['product_name'].apply(\n",
    "    lambda x: '소켓' if isinstance(x, str) and '소켓' in x and all(pattern not in x for pattern in ignore_patterns) else x\n",
    ")\n",
    "\n",
    "socket_df[(socket_df['material_usage'].notnull()) & (socket_df['product_name'] == '소켓')]"
   ]
  },
  {
   "cell_type": "markdown",
   "metadata": {},
   "source": [
    "## 아시바"
   ]
  },
  {
   "cell_type": "code",
   "execution_count": null,
   "metadata": {},
   "outputs": [],
   "source": [
    "asiba_df = socket_df.copy()\n",
    "ignore_patterns = []\n",
    "\n",
    "\n",
    "asiba_df['product_name'] = asiba_df['product_name'].apply(\n",
    "   lambda x: x.replace('아시바외클립', '외클립').strip() if isinstance(x, str) else x\n",
    ")\n",
    "\n",
    "\n",
    "asiba_df['product_name'] = asiba_df['product_name'].apply(\n",
    "   lambda x: '클립' if isinstance(x, str) and '아시바' in x and ('크램프' in x or '클램프' in x) else x\n",
    ")\n",
    "\n",
    "\n",
    "\n",
    "asiba_df[asiba_df['product_name'] == '클립']\n"
   ]
  },
  {
   "cell_type": "markdown",
   "metadata": {},
   "source": [
    "## 일중외봉"
   ]
  },
  {
   "cell_type": "code",
   "execution_count": null,
   "metadata": {},
   "outputs": [],
   "source": [
    "one_shell_df = asiba_df.copy()\n",
    "ignore_patterns = ['각', '환']\n",
    "\n",
    "one_shell_df['material_usage'] = one_shell_df['product_name'].apply(\n",
    "   lambda x: x.replace('일중외봉', '').strip() if isinstance(x, str) and '일중외봉' in x and all(pattern not in x for pattern in ignore_patterns) else np.nan\n",
    ")\n",
    "\n",
    "one_shell_df['product_name'] = one_shell_df['product_name'].apply(\n",
    "    lambda x: '일중외봉' if isinstance(x, str) and '일중외봉' in x and all(pattern not in x for pattern in ignore_patterns) else x\n",
    ")\n",
    "\n",
    "one_shell_df[(one_shell_df['material_usage'].notnull()) & (one_shell_df['product_name'] == '일중외봉')]"
   ]
  },
  {
   "cell_type": "markdown",
   "metadata": {},
   "source": [
    "## 이중외봉"
   ]
  },
  {
   "cell_type": "code",
   "execution_count": null,
   "metadata": {},
   "outputs": [],
   "source": [
    "two_shell_df = one_shell_df.copy()\n",
    "ignore_patterns = ['각']\n",
    "\n",
    "two_shell_df['material_usage'] = two_shell_df['product_name'].apply(\n",
    "   lambda x: x.replace('이중외봉', '').strip() if isinstance(x, str) and '이중외봉' in x and all(pattern not in x for pattern in ignore_patterns) else np.nan\n",
    ")\n",
    "\n",
    "two_shell_df['product_name'] = two_shell_df['product_name'].apply(\n",
    "    lambda x: '이중외봉' if isinstance(x, str) and '이중외봉' in x and all(pattern not in x for pattern in ignore_patterns) else x\n",
    ")\n",
    "\n",
    "two_shell_df[(two_shell_df['material_usage'].notnull()) & (two_shell_df['product_name'] == '이중외봉')]"
   ]
  },
  {
   "cell_type": "markdown",
   "metadata": {},
   "source": [
    "## 환일중, 환외봉"
   ]
  },
  {
   "cell_type": "code",
   "execution_count": null,
   "metadata": {},
   "outputs": [],
   "source": [
    "two_shell_df['product_name'] = two_shell_df['product_name'].apply(\n",
    "    lambda x: '일중환외봉' if x in ['환일중외봉', '환외봉'] else x\n",
    ")\n",
    "\n",
    "\n",
    "two_shell_df[two_shell_df['product_name'] == '일중환외봉']"
   ]
  },
  {
   "cell_type": "markdown",
   "metadata": {},
   "source": [
    "## 일중쌍봉"
   ]
  },
  {
   "cell_type": "code",
   "execution_count": null,
   "metadata": {},
   "outputs": [],
   "source": [
    "double_shell_df = two_shell_df.copy()\n",
    "ignore_patterns = ['각']\n",
    "\n",
    "double_shell_df['product_name'] = double_shell_df['product_name'].apply(\n",
    "   lambda x: x.replace('크램프(쌍봉)', '일중쌍봉').strip() if isinstance(x, str) else x\n",
    ")\n",
    "\n",
    "double_shell_df['material_usage'] = double_shell_df['product_name'].apply(\n",
    "   lambda x: x.replace('일중쌍봉', '').strip() if isinstance(x, str) and '일중쌍봉' in x and all(pattern not in x for pattern in ignore_patterns) else np.nan\n",
    ")\n",
    "\n",
    "double_shell_df['product_name'] = double_shell_df['product_name'].apply(\n",
    "    lambda x: '일중쌍봉' if isinstance(x, str) and '일중쌍봉' in x and all(pattern not in x for pattern in ignore_patterns) else x\n",
    ")\n",
    "\n",
    "double_shell_df[(double_shell_df['material_usage'].notnull()) & (double_shell_df['product_name'] == '일중쌍봉')]"
   ]
  },
  {
   "cell_type": "markdown",
   "metadata": {},
   "source": [
    "## 황천막"
   ]
  },
  {
   "cell_type": "code",
   "execution_count": null,
   "metadata": {},
   "outputs": [],
   "source": [
    "yellow_tent_df = double_shell_df.copy()\n",
    "\n",
    "yellow_tent_df['material_usage'] = yellow_tent_df['product_name'].apply(\n",
    "   lambda x: x.replace('황천막', '').strip() if isinstance(x, str) and '황천막' in x else np.nan\n",
    ")\n",
    "\n",
    "yellow_tent_df['product_name'] = yellow_tent_df['product_name'].apply(\n",
    "    lambda x: '황천막' if isinstance(x, str) and '황천막' in x and all(pattern not in x for pattern in ignore_patterns) else x\n",
    ")\n",
    "\n",
    "yellow_tent_df[(yellow_tent_df['material_usage'].notnull()) & (yellow_tent_df['product_name'] == '황천막')]"
   ]
  },
  {
   "cell_type": "markdown",
   "metadata": {},
   "source": [
    "## 판넬"
   ]
  },
  {
   "cell_type": "code",
   "execution_count": null,
   "metadata": {},
   "outputs": [],
   "source": [
    "panel_df = yellow_tent_df.copy()\n",
    "\n",
    "panel_df['material_usage'] = panel_df['product_name'].apply(\n",
    "   lambda x: x.replace('판넬', '').strip() if isinstance(x, str) and '판넬' in x else np.nan\n",
    ")\n",
    "\n",
    "panel_df['product_name'] = panel_df['product_name'].apply(\n",
    "    lambda x: '판넬' if isinstance(x, str) and '판넬' in x and all(pattern not in x for pattern in ignore_patterns) else x\n",
    ")\n",
    "\n",
    "panel_df[(panel_df['material_usage'].notnull()) & (panel_df['product_name'] == '판넬')]"
   ]
  },
  {
   "cell_type": "markdown",
   "metadata": {},
   "source": [
    "## 방풍망"
   ]
  },
  {
   "cell_type": "code",
   "execution_count": null,
   "metadata": {},
   "outputs": [],
   "source": [
    "window_screen_df = panel_df.copy()\n",
    "\n",
    "window_screen_df['material_usage'] = window_screen_df['product_name'].apply(\n",
    "   lambda x: x.replace('방풍망', '').strip() if isinstance(x, str) and '방풍망' in x else np.nan\n",
    ")\n",
    "\n",
    "window_screen_df['product_name'] = window_screen_df['product_name'].apply(\n",
    "    lambda x: '방풍망' if isinstance(x, str) and '방풍망' in x and all(pattern not in x for pattern in ignore_patterns) else x\n",
    ")\n",
    "\n",
    "window_screen_df[(window_screen_df['material_usage'].notnull()) & (window_screen_df['product_name'] == '방풍망')]"
   ]
  },
  {
   "cell_type": "markdown",
   "metadata": {},
   "source": [
    "## 수도관, 농수관"
   ]
  },
  {
   "cell_type": "code",
   "execution_count": null,
   "metadata": {},
   "outputs": [],
   "source": [
    "water_pipe_df = window_screen_df.copy()\n",
    "\n",
    "\n",
    "water_pipe_df['material_usage'] = water_pipe_df['product_name'].apply(\n",
    "   lambda x: x.replace('수도관', '').strip() if isinstance(x, str) and '수도관' in x else np.nan\n",
    ")\n",
    "\n",
    "water_pipe_df['product_name'] = water_pipe_df['product_name'].apply(\n",
    "    lambda x: '수도관' if isinstance(x, str) and '수도관' in x else x\n",
    ")\n",
    "\n",
    "water_pipe_df['product_name'] = water_pipe_df['product_name'].apply(\n",
    "    lambda x: '직관농수관' if x in ['농수관 직관', '농수관(직관)'] else x\n",
    ")\n",
    "\n",
    "water_pipe_df[(water_pipe_df['material_usage'].notnull()) & (water_pipe_df['product_name'] == '수도관')]\n"
   ]
  },
  {
   "cell_type": "markdown",
   "metadata": {},
   "source": [
    "## 가교시트"
   ]
  },
  {
   "cell_type": "code",
   "execution_count": null,
   "metadata": {},
   "outputs": [],
   "source": [
    "sheet_df = water_pipe_df.copy()\n",
    "\n",
    "sheet_df['material_usage'] = sheet_df['product_name'].apply(\n",
    "   lambda x: x.replace('가교시트', '').strip() if isinstance(x, str) and '가교시트' in x else np.nan\n",
    ")\n",
    "\n",
    "sheet_df['product_name'] = sheet_df['product_name'].apply(\n",
    "    lambda x: '가교시트' if isinstance(x, str) and '가교시트' in x else x\n",
    ")\n",
    "\n",
    "sheet_df[(sheet_df['material_usage'].notnull()) & (sheet_df['product_name'] == '가교시트')]"
   ]
  },
  {
   "cell_type": "markdown",
   "metadata": {},
   "source": [
    "## 가이드로라"
   ]
  },
  {
   "cell_type": "code",
   "execution_count": null,
   "metadata": {},
   "outputs": [],
   "source": [
    "guideroller_df = sheet_df.copy()\n",
    "\n",
    "guideroller_df['material_usage'] = guideroller_df['product_name'].apply(\n",
    "   lambda x: x.replace('가이드로라', '').strip() if isinstance(x, str) and '가이드로라' in x else np.nan\n",
    ")\n",
    "\n",
    "guideroller_df['product_name'] = guideroller_df['product_name'].apply(\n",
    "    lambda x: '가이드로라' if isinstance(x, str) and '가이드로라' in x else x\n",
    ")\n",
    "\n",
    "guideroller_df[(guideroller_df['material_usage'].notnull()) & (guideroller_df['product_name'] == '가이드로라')]"
   ]
  },
  {
   "cell_type": "markdown",
   "metadata": {},
   "source": [
    "## 사이드로라"
   ]
  },
  {
   "cell_type": "code",
   "execution_count": null,
   "metadata": {},
   "outputs": [],
   "source": [
    "sideroller_df = guideroller_df.copy()\n",
    "\n",
    "sideroller_df['material_usage'] = sideroller_df['product_name'].apply(\n",
    "   lambda x: x.replace('사이드로라', '').strip() if isinstance(x, str) and '사이드로라' in x else np.nan\n",
    ")\n",
    "\n",
    "sideroller_df['product_name'] = sideroller_df['product_name'].apply(\n",
    "    lambda x: '사이드로라' if isinstance(x, str) and '사이드로라' in x else x\n",
    ")\n",
    "\n",
    "sideroller_df[(sideroller_df['material_usage'].notnull()) & (sideroller_df['product_name'] == '사이드로라')]"
   ]
  },
  {
   "cell_type": "markdown",
   "metadata": {},
   "source": [
    "## 침하방지캡"
   ]
  },
  {
   "cell_type": "code",
   "execution_count": null,
   "metadata": {},
   "outputs": [],
   "source": [
    "settlement_cap_df = sideroller_df.copy()\n",
    "\n",
    "settlement_cap_df['material_usage'] = settlement_cap_df['product_name'].apply(\n",
    "   lambda x: x.replace('침하방지캡', '').strip() if isinstance(x, str) and '침하방지캡' in x else np.nan\n",
    ")\n",
    "\n",
    "settlement_cap_df['product_name'] = settlement_cap_df['product_name'].apply(\n",
    "    lambda x: '침하방지캡' if isinstance(x, str) and '침하방지캡' in x else x\n",
    ")\n",
    "\n",
    "settlement_cap_df[(settlement_cap_df['material_usage'].notnull()) & (settlement_cap_df['product_name'] == '침하방지캡')]"
   ]
  },
  {
   "cell_type": "markdown",
   "metadata": {},
   "source": [
    "## 벤츄레타"
   ]
  },
  {
   "cell_type": "code",
   "execution_count": null,
   "metadata": {},
   "outputs": [],
   "source": [
    "ventilation_df = settlement_cap_df.copy()\n",
    "\n",
    "ventilation_df['product_name'] = ventilation_df['product_name'].apply(\n",
    "    lambda x: '벤츄레타' if x in ['벤추레다', '벤츄레다'] else x\n",
    ")\n",
    "\n",
    "ventilation_df[ventilation_df['product_name'] == '벤츄레타']"
   ]
  },
  {
   "cell_type": "markdown",
   "metadata": {},
   "source": [
    "## 단섬유"
   ]
  },
  {
   "cell_type": "code",
   "execution_count": null,
   "metadata": {},
   "outputs": [],
   "source": [
    "short_fiber_df = ventilation_df.copy()\n",
    "\n",
    "short_fiber_df['material_usage'] = short_fiber_df['product_name'].apply(\n",
    "   lambda x: x.replace('단섬유', '').strip() if isinstance(x, str) and '단섬유' in x else np.nan\n",
    ")\n",
    "\n",
    "short_fiber_df['product_name'] = short_fiber_df['product_name'].apply(\n",
    "    lambda x: '단섬유' if isinstance(x, str) and '단섬유' in x else x\n",
    ")\n",
    "\n",
    "short_fiber_df.to_csv('sorted_data.csv', index=False, encoding='utf-8-sig')\n",
    "\n",
    "short_fiber_df[(short_fiber_df['material_usage'].notnull()) & (short_fiber_df['product_name'] == '단섬유')]"
   ]
  },
  {
   "cell_type": "markdown",
   "metadata": {},
   "source": [
    "## 자재 제거"
   ]
  },
  {
   "cell_type": "code",
   "execution_count": null,
   "metadata": {},
   "outputs": [],
   "source": [
    "final_df = short_fiber_df.copy()"
   ]
  },
  {
   "cell_type": "markdown",
   "metadata": {},
   "source": [
    "### 특정 단어를 포함하는 행 제거"
   ]
  },
  {
   "cell_type": "code",
   "execution_count": null,
   "metadata": {},
   "outputs": [],
   "source": [
    "final_df = final_df[~final_df['product_name'].str.contains('부가세',na=False)]\n",
    "final_df = final_df[~final_df['product_name'].str.contains('--------------',na=False)]\n",
    "final_df = final_df[~final_df['product_name'].str.contains('합계',na=False)]\n",
    "final_df = final_df[~final_df['product_name'].str.contains('-87,500',na=False)]\n",
    "final_df = final_df[~final_df['product_name'].str.contains('15',na=False)]\n",
    "final_df = final_df[~final_df['product_name'].str.contains('16',na=False)]\n",
    "final_df = final_df[~final_df['product_name'].str.contains('디씨',na=False)]\n",
    "final_df = final_df[~final_df['product_name'].str.contains('(7/20 자재추가)',na=False)]\n",
    "final_df = final_df[~final_df['product_name'].str.contains('6/21전미수',na=False)]\n",
    "final_df = final_df[~final_df['product_name'].str.contains('추가건',na=False)]\n",
    "final_df = final_df[~final_df['product_name'].str.contains('이전공사비',na=False)]\n",
    "final_df = final_df[~final_df['product_name'].str.contains('입금',na=False)]\n",
    "final_df = final_df[~final_df['product_name'].str.contains(\"폐기물\", na=False)] \n",
    "final_df = final_df[~final_df['product_name'].str.contains(\"철거\", na=False)] \n",
    "final_df = final_df[~final_df['product_name'].str.contains(\"인건비\", na=False)] "
   ]
  },
  {
   "cell_type": "markdown",
   "metadata": {},
   "source": [
    "### 특정 단어로 끝나는 행 제거"
   ]
  },
  {
   "cell_type": "code",
   "execution_count": null,
   "metadata": {},
   "outputs": [],
   "source": [
    "final_df = final_df[~final_df['product_name'].str.endswith('작업', na=False)]\n",
    "\n",
    "final_df = final_df[~final_df['product_name'].str.endswith('비', na=False)]\n",
    "\n",
    "final_df = final_df[~final_df['product_name'].str.endswith('금', na=False)]"
   ]
  },
  {
   "cell_type": "code",
   "execution_count": null,
   "metadata": {},
   "outputs": [],
   "source": [
    "final_df.to_csv('deleted_data.csv', index=False, encoding='utf-8-sig')"
   ]
  },
  {
   "cell_type": "code",
   "execution_count": null,
   "metadata": {},
   "outputs": [],
   "source": [
    "list(df[df['product_name'].str.contains('백백코트',na=False)]['product_name'].unique())"
   ]
  },
  {
   "cell_type": "code",
   "execution_count": null,
   "metadata": {},
   "outputs": [],
   "source": [
    "list(demolition['product_name'].unique())"
   ]
  }
 ],
 "metadata": {
  "kernelspec": {
   "display_name": "yn-env",
   "language": "python",
   "name": "python3"
  },
  "language_info": {
   "codemirror_mode": {
    "name": "ipython",
    "version": 3
   },
   "file_extension": ".py",
   "mimetype": "text/x-python",
   "name": "python",
   "nbconvert_exporter": "python",
   "pygments_lexer": "ipython3",
   "version": "3.9.11"
  }
 },
 "nbformat": 4,
 "nbformat_minor": 2
}
